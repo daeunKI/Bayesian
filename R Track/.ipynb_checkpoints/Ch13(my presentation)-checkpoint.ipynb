{
 "cells": [
  {
   "cell_type": "markdown",
   "metadata": {},
   "source": [
    "#Chapter 14.  Overview of the GLM"
   ]
  },
  {
   "cell_type": "markdown",
   "metadata": {
    "collapsed": true
   },
   "source": [
    "## -----------------------------------------------------------------------------------------------------------------------------\n",
    "## Contents\n",
    "### 14.1 The GLM\n",
    "### 14.2 Cases of the GLM\n",
    "## -----------------------------------------------------------------------------------------------------------------------------"
   ]
  },
  {
   "cell_type": "markdown",
   "metadata": {},
   "source": [
    "### 14.1 The Generalized Linear Model(GLM)"
   ]
  },
  {
   "cell_type": "markdown",
   "metadata": {},
   "source": [
    "### 14.1.1 Predictor and predicted variables"
   ]
  },
  {
   "cell_type": "markdown",
   "metadata": {},
   "source": [
    "Suppose we want to predict someone’s weight from their height. \n",
    "> Predicted variable(독립변수): weight\n",
    "\n",
    "> Predictor(설명변수): height\n",
    "\n",
    "suppose we want to predict high school grade point average (GPA) from Scholastic Aptitude Test (SAT) score and family income.\n",
    "> Predicted variable(독립변수): GPA\n",
    "\n",
    "> Predictor(설명변수): SAT and income\n",
    "\n",
    "** The value of the predictor variable comes from\n",
    "“outside” the system being modeled, whereas the value of the predicted variable depends\n",
    "on the value of the predictor variable."
   ]
  },
  {
   "cell_type": "markdown",
   "metadata": {},
   "source": [
    "####The key mathematical difference between predictor and predicted variables is that the likelihood function.\n",
    "(Likelihood function: expresses the probability of values ofthe predicted variable as a function of values of the predictor variable. The likelihood function does not describe the probabilities of values of the predictor variable.)"
   ]
  },
  {
   "cell_type": "markdown",
   "metadata": {},
   "source": [
    "In experimental settings, the variables that are actually manipulated and set by the\n",
    "experimenter are the independent variables. In this context of experimental manipulation, the values of the independent variables truly are (in principle, at least) independent of the values of other variables, because the experimenter has intervened to arbitrarily set the values of the independent variables. But sometimes a non-manipulated variable is also referred to as “independent”, merely as a way to indicate that it is being used as a predictor variable."
   ]
  },
  {
   "cell_type": "markdown",
   "metadata": {},
   "source": [
    "Among non-manipulated variables, the roles of predicted and predictor are arbitrary, determined only by the interpretation of the analysis. \n",
    "\n",
    "> Consider, for example, people’s weights and heights. We could be interested in predicting a person’s weight from his/her height, or we could be interested in predicting a person’s height from his/her weight.\n",
    "\n",
    "Prediction is merely a mathematical dependency, not necessarily a description of underlying causal relationship."
   ]
  },
  {
   "cell_type": "markdown",
   "metadata": {},
   "source": [
    "Just as “prediction” does not imply causation, “prediction” also does not imply any temporal relation between the variables. \n",
    "\n",
    "> For example, we may want to predict a person’s\n",
    "sex, male or female, from his/her height. Because males tend to be taller than females, this\n",
    "prediction can be made with better than chance accuracy. But a person’s sex is not caused\n",
    "by his/her height, nor does a person’s sex occur only after their height is measured. \n",
    "\n",
    "Thus,\n",
    "we can “predict” a person’s sex from his/her height, but this does not mean that the person’s\n",
    "sex occurred later in time than his/her height."
   ]
  },
  {
   "cell_type": "markdown",
   "metadata": {},
   "source": [
    "### In summary: \n",
    "#### All manipulated independent variables are predictor variables, not predicted. \n",
    "####Some dependent variables can take on the role of predictor variables, if desired. All predicted variables are dependent variables. \n",
    "\n"
   ]
  },
  {
   "cell_type": "markdown",
   "metadata": {},
   "source": [
    "### Why we care.\n",
    "We care about these distinctions between predicted and predictor variables <B>because the likelihood function is a mathematical description of the dependency of the predicted variable on the predictor variable.</B>\n",
    "\n",
    "The first thing we have to do in statistical inference is identify what variables we are interested in predicting, on the basis of what\n",
    "predictors."
   ]
  },
  {
   "cell_type": "markdown",
   "metadata": {},
   "source": [
    "### 14.1.2 Scale types: metric, ordinal, nominal"
   ]
  },
  {
   "cell_type": "markdown",
   "metadata": {},
   "source": [
    "Items can be measured on different scales. For example, the participants in a foot race can\n",
    "be measured either by the time they took to run the race, or by their placing in the race (1st,\n",
    "2nd, 3rd, etc.), or by the name of the team they represent. These three measurements are\n",
    "examples of metric, ordinal, and nominal scales, respectively (Stevens, 1946).\n",
    "Examples ofmetric scales include response time (i.e., latency or duration), temperature,\n",
    "height, and weight. Those are actually cases of a specific type of metric scale, called a ratio\n",
    "scale, because they have a natural zero point on the scale. The zero point on the scale\n",
    "corresponds to there being a complete absence of the stuff being measured. For example,\n",
    "when the duration is zero, there has been no time elapsed, and when the weight is zero,\n",
    "there is no downward force. Because these scales have a natural zero point, it is meaningful\n",
    "to talk about ratios of amounts being measured, and that is why they are called ratio scales.\n",
    "For example, it is meaningful to say that taking 2 minutes to solve a problem is twice as\n",
    "long as taking 1 minute to solve the problem. On the other hand, the scale of historical\n",
    "time has no known absolute zero. We cannot say, for example, that there is twice as much\n",
    "time in January 2nd as there is time in January 1st. We can refer to the duration since some\n",
    "arbitrary reference point, but we cannot talk about the absolute amount of time in any given\n",
    "moment. Scales that have no natural zero are called interval scales because all we know\n",
    "about them is the amount of stuff in an interval on the scale, not the amount of stuff at a\n",
    "point on the scale. Despite the conceptual difference between ratio and interval scales, we\n",
    "will lump them together into the category of metric scales.\n",
    "A special case of metric-scaled data is count data, also called frequency data. For example, the number of cars that pass through an intersection during an hour is a count. The\n",
    "number of poll respondents who say they belong to a particular political party is a count.\n",
    "Count data can only have values that are non-negative integers. Distances between counts\n",
    "have meaning, and therefore the data are metric, but because the data cannot be negative and are not continuous, they are treated with different mathematical forms than continuous,\n",
    "real-valued metric data.\n",
    "Examples of ordinal scales include placing in a race, or rating of degree of agreement.\n",
    "When we are told that, in a race, Jane came in first, Jill came in second, and Jasmine came\n",
    "in third, we only know the order. We do not know whether Jane beat Jill by a nose or by a\n",
    "mile. There is no distance or metric information in an ordinal scale. As another example,\n",
    "many polls have ordinal response scales: Indicate how much you agree with this statement:\n",
    "“Bayesian statistical inference is better than null hypothesis significance testing”, with 5 =\n",
    "strongly agree, 4 = mildly agree, 3 = neither agree nor disagree, 2 = mildly disagree, and\n",
    "1 = strongly disagree. Notice that there is no metric information in the response scale,\n",
    "because we cannot say the difference between ratings of 5 and 4 is the same amount of\n",
    "difference as between ratings of 4 and 3.\n",
    "Examples of nominal, a.k.a. categorical, scales include political party affiliation, the\n",
    "face of a rolled die, and the result of a flipped coin. For nominal scales, there is neither\n",
    "distance between categories nor order between categories. For example, suppose we measure the political party affiliation of a person. The categories of the scale might be Green,\n",
    "Democrat, Republican, Libertarian, and Other. While some political theories might infer\n",
    "that the parties fall on some underlying liberal-conservative scale, there is no such scale\n",
    "in the actual categorical values themselves. In the actual categorical labels there is neither\n",
    "distance nor ordering.\n",
    "In summary, if two items have different nominal values, all we know is that the two\n",
    "items are different (and what categories they are in). On the other hand, if two items have\n",
    "different ordinal values, we know that the two items are different and we know which one is\n",
    "“larger” than the other, but not how much larger. If two items have different metric values,\n",
    "then we know that they are different, which one is larger, and how much larger."
   ]
  },
  {
   "cell_type": "markdown",
   "metadata": {},
   "source": [
    "### Why we care.\n",
    "We care about the scale type because the likelihood function must specify a probability distribution on the appropriate scale. If the scale has two nominal values,\n",
    "then a Bernoulli likelihood function may be appropriate. If the scale is metric, then a normal distribution may be appropriate as a likelihood function. Whenever we a choosing a\n",
    "model for data, we must answer the question, What kind of scale are we dealing with?\n",
    "In the following sections, we will first consider the case of a metric predicted variable\n",
    "with metric predictors. In that context of all metric variables, we will develop the concepts of linear functions and interactions. Once those concepts are established for metric\n",
    "predictors, the notions will be extended to nominal predictors."
   ]
  },
  {
   "cell_type": "markdown",
   "metadata": {},
   "source": [
    "### 14.1.3 Linear function of a single metric predictor"
   ]
  },
  {
   "cell_type": "markdown",
   "metadata": {},
   "source": [
    "Suppose we have identified one variable to be predicted, which we’ll call y, and one variable\n",
    "to be the predictor, which we’ll call x. Suppose we have determined that both variables are\n",
    "metric. The next issue we need to address is how to model a relationship between x and y.\n",
    "There are many possible dependencies of y on x, and the particular form of the dependency\n",
    "is determined by the specific meanings and nature of the variables. But in general, across all\n",
    "possible domains, what is the most basic or simplistic dependency of y on x that we might\n",
    "consider? The usual answer to this question is, a linear relationship. A linear function is the\n",
    "generic, “vanilla”, off-the-shelf dependency that is used in statistical models. The methods\n",
    "can be generalized to other models when needed.\n",
    "Linear functions preserve proportionality. If you double the input, then you double the\n",
    "output. If cost of a book is a linear function of the number of pages, then when the number of pages is reduced 10%, the cost should be reduced 10%. If automobile speed is a linear\n",
    "function of gas delivery to the engine, then when you press the pedal 20% further, the car\n",
    "should go 20% faster. Non-linear functions do not preserve proportionality. For example,\n",
    "in actuality, car speed is not a linear function of gas delivery. At higher and higher speeds,\n",
    "it takes proportionally more and more gas to make the car go faster. Despite the fact that\n",
    "many real-world dependencies are non-linear, most are at least approximately linear over\n",
    "moderate ranges of the variables. For example, if you have twice the wall area, it takes\n",
    "approximately twice the amount of paint. It is also the case that linear relationships are\n",
    "intuitively prominent (Brehmer, 1974; Hoffman, Earle, & Slovic, 1981; Kalish, Griffiths, &\n",
    "Lewandowsky, 2007). Linear relationships are the easiest to think about: Turn the steering\n",
    "wheel twice as far, and the car should turn twice as sharp. Turn the volume knob 50%\n",
    "higher, the loudness should increase 50%.\n",
    "The general mathematical form for a linear function of a single variable is\n",
    "\n",
    "\n",
    "y = β0 + β1 x\n",
    "\n",
    "When values of x and y that satisfy Equation 14.1 are plotted, they form a line. Examples\n",
    "are shown in Figure 14.1. The value of parameter β0 is called the y-intercept because it is\n",
    "the where the line intersects the y-axis when x = 0. The left panel of Figure 14.1 shows two\n",
    "lines with different y-intercepts. The value of parameter β1 is called the slope because it\n",
    "indicates how much y increases when x increase by 1. The right panel of Figure 14.1 shows\n",
    "two lines with the same intercept but different slopes.\n",
    "In strict mathematical terminology, the type of transformation in Equation 14.1 is called\n",
    "affine. When β0 , 0, the transformation does not preserve proportionality. For example,\n",
    "consider y = 10 + 2x. When x is doubled from x = 1 to x = 2, y increases from y = 12 to\n",
    "y = 14, which is not doubling y. Nevertheless, the rate of increase in y is the same for all\n",
    "values of x: Whenever x increases by 1, y increases by 2. Equation 14.1 can be algebraically\n",
    "re-arranged so that it does preserve proportionality, as will be shown next."
   ]
  },
  {
   "cell_type": "markdown",
   "metadata": {},
   "source": [
    "<figure id=\"fig.redline0\" style=\"float: none\"><img src=\"1.png\"><figcaption> \n",
    "</figcaption></figure>"
   ]
  },
  {
   "cell_type": "markdown",
   "metadata": {},
   "source": [
    "### 14.1.4 Additive combination of metric predictors"
   ]
  },
  {
   "cell_type": "markdown",
   "metadata": {},
   "source": [
    "> ### 14.1.4.1 Reparameterization to x threshold form"
   ]
  },
  {
   "cell_type": "markdown",
   "metadata": {},
   "source": [
    "### 14.1.5 Nonadditive interaction of metric predictors"
   ]
  },
  {
   "cell_type": "markdown",
   "metadata": {},
   "source": [
    "### 14.1.6 Nominal predictors"
   ]
  },
  {
   "cell_type": "markdown",
   "metadata": {},
   "source": [
    "> ### 14.1.6.1 Linear model for a single nominal predictor"
   ]
  },
  {
   "cell_type": "markdown",
   "metadata": {},
   "source": [
    "> ### 14.1.6.2 Additive combination of nominal predictors"
   ]
  },
  {
   "cell_type": "markdown",
   "metadata": {},
   "source": [
    "> ### 14.1.6.3 Nonadditive interaction of nominal predictors"
   ]
  },
  {
   "cell_type": "markdown",
   "metadata": {},
   "source": [
    "### 14.1.7 Linking combined predictors to the predicted"
   ]
  },
  {
   "cell_type": "markdown",
   "metadata": {},
   "source": [
    "> ### 14.1.7.1 The sigmoid (a.k.a. logistic) function"
   ]
  },
  {
   "cell_type": "markdown",
   "metadata": {},
   "source": [
    "> ### 14.1.7.2 The cumulative normal (a.k.a. Phi) function"
   ]
  },
  {
   "cell_type": "markdown",
   "metadata": {},
   "source": [
    "### 14.1.8 Probabilistic prediction"
   ]
  },
  {
   "cell_type": "markdown",
   "metadata": {},
   "source": [
    "### 14.1.9 Formal expression of the GLM"
   ]
  },
  {
   "cell_type": "markdown",
   "metadata": {},
   "source": [
    "### 14.2 Cases of the GLM"
   ]
  },
  {
   "cell_type": "code",
   "execution_count": null,
   "metadata": {
    "collapsed": true
   },
   "outputs": [],
   "source": []
  }
 ],
 "metadata": {
  "kernelspec": {
   "display_name": "R",
   "language": "",
   "name": "ir"
  },
  "language_info": {
   "codemirror_mode": "r",
   "file_extension": ".r",
   "mimetype": "text/x-r-source",
   "name": "R",
   "pygments_lexer": "r",
   "version": "3.1.3"
  }
 },
 "nbformat": 4,
 "nbformat_minor": 0
}
